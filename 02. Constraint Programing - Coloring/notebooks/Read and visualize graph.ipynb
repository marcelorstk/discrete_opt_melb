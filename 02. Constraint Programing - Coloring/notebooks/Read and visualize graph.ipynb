{
 "cells": [
  {
   "cell_type": "code",
   "execution_count": 1,
   "id": "7f4fa73d",
   "metadata": {},
   "outputs": [],
   "source": [
    "%load_ext autoreload\n",
    "%autoreload 2"
   ]
  },
  {
   "cell_type": "code",
   "execution_count": 2,
   "id": "da430a62",
   "metadata": {},
   "outputs": [],
   "source": [
    "from pyvis.network import Network\n",
    "import networkx as nx"
   ]
  },
  {
   "cell_type": "code",
   "execution_count": 3,
   "id": "749d6666",
   "metadata": {},
   "outputs": [],
   "source": [
    "import sys\n",
    " \n",
    "# setting path\n",
    "sys.path.append('../')\n",
    "from solver import _data_collector"
   ]
  },
  {
   "cell_type": "markdown",
   "id": "05e58e7a",
   "metadata": {},
   "source": [
    "# Read and visualize Graphs"
   ]
  },
  {
   "cell_type": "code",
   "execution_count": 4,
   "id": "dd4b0a22",
   "metadata": {},
   "outputs": [],
   "source": [
    "def read_file(file_location: str) -> str:\n",
    "    with open(file_location, 'r') as input_data_file:\n",
    "        input_data = input_data_file.read()\n",
    "    \n",
    "    edges, edge_count, node_count = _data_collector(input_data)\n",
    "    \n",
    "    return edges, edge_count, node_count\n",
    "\n",
    "def to_network(edges: list, node_count: int, colors: list = None) -> Network:\n",
    "    # Plot\n",
    "    g_plot = Network(notebook=True, cdn_resources=\"remote\")\n",
    "    g_plot.repulsion()\n",
    "    \n",
    "    # Graph\n",
    "    g = nx.graph.Graph()\n",
    "    for node in range(node_count):\n",
    "        color = 0\n",
    "        if colors:\n",
    "            color = colors[node]\n",
    "        g.add_node(node, title=f\"Node {node}\", group=color)\n",
    "    \n",
    "    for edge in edges:\n",
    "        g.add_edge(edge[0], edge[1])\n",
    "        \n",
    "    g_plot.from_nx(g)\n",
    "    \n",
    "    return g_plot, g"
   ]
  },
  {
   "cell_type": "code",
   "execution_count": 5,
   "id": "e8ffd665",
   "metadata": {},
   "outputs": [],
   "source": [
    "edges, edge_count, node_count = read_file(\"../data/gc_20_3\")"
   ]
  },
  {
   "cell_type": "code",
   "execution_count": 6,
   "id": "8650248b",
   "metadata": {},
   "outputs": [],
   "source": [
    "n_plot, network = to_network(edges, node_count)"
   ]
  },
  {
   "cell_type": "code",
   "execution_count": 7,
   "id": "342ba909",
   "metadata": {},
   "outputs": [
    {
     "data": {
      "text/plain": [
       "<class 'pyvis.network.Network'> |N|=20 |E|=63"
      ]
     },
     "execution_count": 7,
     "metadata": {},
     "output_type": "execute_result"
    }
   ],
   "source": [
    "n_plot"
   ]
  },
  {
   "cell_type": "code",
   "execution_count": 8,
   "id": "45b545af",
   "metadata": {},
   "outputs": [
    {
     "name": "stdout",
     "output_type": "stream",
     "text": [
      "Network.html\n"
     ]
    },
    {
     "data": {
      "text/html": [
       "\n",
       "        <iframe\n",
       "            width=\"100%\"\n",
       "            height=\"600px\"\n",
       "            src=\"Network.html\"\n",
       "            frameborder=\"0\"\n",
       "            allowfullscreen\n",
       "            \n",
       "        ></iframe>\n",
       "        "
      ],
      "text/plain": [
       "<IPython.lib.display.IFrame at 0x106faa280>"
      ]
     },
     "execution_count": 8,
     "metadata": {},
     "output_type": "execute_result"
    }
   ],
   "source": [
    "n_plot.show(\"Network.html\")"
   ]
  },
  {
   "cell_type": "code",
   "execution_count": 11,
   "id": "cb27298b",
   "metadata": {},
   "outputs": [
    {
     "data": {
      "text/plain": [
       "[0, 4]"
      ]
     },
     "execution_count": 11,
     "metadata": {},
     "output_type": "execute_result"
    }
   ],
   "source": [
    "nx.find_cliques(network).__next__()"
   ]
  },
  {
   "cell_type": "code",
   "execution_count": null,
   "id": "10cb8dfe",
   "metadata": {},
   "outputs": [],
   "source": []
  },
  {
   "cell_type": "markdown",
   "id": "2458801c",
   "metadata": {},
   "source": [
    "# Solving coloring problem"
   ]
  },
  {
   "cell_type": "code",
   "execution_count": 9,
   "id": "6405060d",
   "metadata": {},
   "outputs": [],
   "source": [
    "from ortools.sat.python import cp_model"
   ]
  },
  {
   "cell_type": "code",
   "execution_count": 10,
   "id": "a524e24f",
   "metadata": {},
   "outputs": [],
   "source": [
    "model = cp_model.CpModel()"
   ]
  },
  {
   "cell_type": "code",
   "execution_count": 11,
   "id": "daca5044",
   "metadata": {},
   "outputs": [],
   "source": [
    "# Create variables\n",
    "nodes = [\n",
    "    model.NewIntVar(0, node_count-1, 'x%i' % i) for i in range(node_count)\n",
    "]\n",
    "\n",
    "# Variable of the objective function - Its the maximum number of colors\n",
    "final_value = model.NewIntVar(0, node_count-1, 'max color')"
   ]
  },
  {
   "cell_type": "code",
   "execution_count": 12,
   "id": "e0d52bc7",
   "metadata": {},
   "outputs": [
    {
     "data": {
      "text/plain": [
       "[(0, 16),\n",
       " (1, 2),\n",
       " (1, 6),\n",
       " (1, 7),\n",
       " (1, 8),\n",
       " (2, 11),\n",
       " (2, 16),\n",
       " (2, 17),\n",
       " (3, 14),\n",
       " (3, 16),\n",
       " (3, 17),\n",
       " (4, 7),\n",
       " (4, 13),\n",
       " (4, 17),\n",
       " (5, 6),\n",
       " (5, 11),\n",
       " (6, 18),\n",
       " (9, 12),\n",
       " (10, 13),\n",
       " (11, 17),\n",
       " (13, 15),\n",
       " (15, 17),\n",
       " (16, 19)]"
      ]
     },
     "execution_count": 12,
     "metadata": {},
     "output_type": "execute_result"
    }
   ],
   "source": [
    "edges"
   ]
  },
  {
   "cell_type": "code",
   "execution_count": 13,
   "id": "481386c6",
   "metadata": {},
   "outputs": [],
   "source": [
    "# Add constraints\n",
    "for i, j in edges:\n",
    "    model.Add(nodes[i]!=nodes[j])"
   ]
  },
  {
   "cell_type": "code",
   "execution_count": 14,
   "id": "49f3c969",
   "metadata": {},
   "outputs": [],
   "source": [
    "model.AddMaxEquality(final_value, nodes)\n",
    "model.Minimize(final_value)"
   ]
  },
  {
   "cell_type": "code",
   "execution_count": 15,
   "id": "be7217f2",
   "metadata": {},
   "outputs": [],
   "source": [
    "solver = cp_model.CpSolver()\n",
    "status = solver.Solve(model)"
   ]
  },
  {
   "cell_type": "code",
   "execution_count": 16,
   "id": "45c1c621",
   "metadata": {},
   "outputs": [
    {
     "data": {
      "text/plain": [
       "2.0"
      ]
     },
     "execution_count": 16,
     "metadata": {},
     "output_type": "execute_result"
    }
   ],
   "source": [
    "solver.BestObjectiveBound()"
   ]
  },
  {
   "cell_type": "code",
   "execution_count": 17,
   "id": "5d581ff1",
   "metadata": {},
   "outputs": [
    {
     "data": {
      "text/plain": [
       "'OPTIMAL'"
      ]
     },
     "execution_count": 17,
     "metadata": {},
     "output_type": "execute_result"
    }
   ],
   "source": [
    "solver.StatusName()"
   ]
  },
  {
   "cell_type": "code",
   "execution_count": 18,
   "id": "9ad9e8b7",
   "metadata": {},
   "outputs": [
    {
     "data": {
      "text/plain": [
       "1"
      ]
     },
     "execution_count": 18,
     "metadata": {},
     "output_type": "execute_result"
    }
   ],
   "source": [
    "solver.Value(nodes[2])"
   ]
  },
  {
   "cell_type": "code",
   "execution_count": 19,
   "id": "69e17abf",
   "metadata": {
    "scrolled": true
   },
   "outputs": [],
   "source": [
    "colors = [solver.Value(node) for node in nodes]"
   ]
  },
  {
   "cell_type": "code",
   "execution_count": 20,
   "id": "5ab4d576",
   "metadata": {
    "scrolled": true
   },
   "outputs": [
    {
     "data": {
      "text/plain": [
       "[1, 2, 1, 1, 1, 2, 1, 0, 1, 2, 1, 0, 0, 0, 2, 1, 0, 2, 0, 1]"
      ]
     },
     "execution_count": 20,
     "metadata": {},
     "output_type": "execute_result"
    }
   ],
   "source": [
    "colors"
   ]
  },
  {
   "cell_type": "markdown",
   "id": "1e21092a",
   "metadata": {},
   "source": [
    "## Print colored graph"
   ]
  },
  {
   "cell_type": "code",
   "execution_count": 21,
   "id": "d4cce50b",
   "metadata": {},
   "outputs": [
    {
     "data": {
      "text/plain": [
       "[1, 2, 1, 1, 1, 2, 1, 0, 1, 2, 1, 0, 0, 0, 2, 1, 0, 2, 0, 1]"
      ]
     },
     "execution_count": 21,
     "metadata": {},
     "output_type": "execute_result"
    }
   ],
   "source": [
    "colors"
   ]
  },
  {
   "cell_type": "code",
   "execution_count": 22,
   "id": "6a486849",
   "metadata": {},
   "outputs": [],
   "source": [
    "color_n_plot, color_network = to_network(edges, node_count, colors)"
   ]
  },
  {
   "cell_type": "code",
   "execution_count": 23,
   "id": "de2a0581",
   "metadata": {},
   "outputs": [
    {
     "name": "stdout",
     "output_type": "stream",
     "text": [
      "ColorNetwork.html\n"
     ]
    },
    {
     "data": {
      "text/html": [
       "\n",
       "        <iframe\n",
       "            width=\"100%\"\n",
       "            height=\"600px\"\n",
       "            src=\"ColorNetwork.html\"\n",
       "            frameborder=\"0\"\n",
       "            allowfullscreen\n",
       "            \n",
       "        ></iframe>\n",
       "        "
      ],
      "text/plain": [
       "<IPython.lib.display.IFrame at 0x1039aa220>"
      ]
     },
     "execution_count": 23,
     "metadata": {},
     "output_type": "execute_result"
    }
   ],
   "source": [
    "color_n_plot.show(\"ColorNetwork.html\")"
   ]
  },
  {
   "cell_type": "code",
   "execution_count": 37,
   "id": "3bd2eba7",
   "metadata": {},
   "outputs": [
    {
     "data": {
      "text/plain": [
       "EdgeView([(0, 16), (1, 2), (1, 6), (1, 7), (1, 8), (2, 11), (2, 16), (2, 17), (3, 14), (3, 16), (3, 17), (4, 7), (4, 13), (4, 17), (5, 6), (5, 11), (6, 18), (9, 12), (10, 13), (11, 17), (13, 15), (15, 17), (16, 19)])"
      ]
     },
     "execution_count": 37,
     "metadata": {},
     "output_type": "execute_result"
    }
   ],
   "source": [
    "color_network.edges"
   ]
  },
  {
   "cell_type": "code",
   "execution_count": 40,
   "id": "929aa6b5",
   "metadata": {},
   "outputs": [],
   "source": [
    "l = [i for i in color_network.nodes]"
   ]
  },
  {
   "cell_type": "code",
   "execution_count": 44,
   "id": "13766248",
   "metadata": {},
   "outputs": [],
   "source": [
    "import random"
   ]
  },
  {
   "cell_type": "code",
   "execution_count": 45,
   "id": "7e50d7fd",
   "metadata": {},
   "outputs": [],
   "source": [
    "random.shuffle(l)"
   ]
  },
  {
   "cell_type": "code",
   "execution_count": 46,
   "id": "fb3fb685",
   "metadata": {},
   "outputs": [
    {
     "data": {
      "text/plain": [
       "[1, 11, 5, 2, 8, 16, 14, 6, 12, 17, 7, 15, 10, 0, 9, 18, 4, 19, 3, 13]"
      ]
     },
     "execution_count": 46,
     "metadata": {},
     "output_type": "execute_result"
    }
   ],
   "source": [
    "l"
   ]
  },
  {
   "cell_type": "markdown",
   "id": "c05e3ddd",
   "metadata": {},
   "source": [
    "# Find cliques"
   ]
  },
  {
   "cell_type": "code",
   "execution_count": 30,
   "id": "c48481bd",
   "metadata": {},
   "outputs": [
    {
     "data": {
      "text/plain": [
       "<generator object find_cliques at 0x136383900>"
      ]
     },
     "execution_count": 30,
     "metadata": {},
     "output_type": "execute_result"
    }
   ],
   "source": [
    "nx.find_cliques(color_network)"
   ]
  },
  {
   "cell_type": "code",
   "execution_count": 34,
   "id": "7fa7c8c9",
   "metadata": {},
   "outputs": [
    {
     "data": {
      "text/plain": [
       "0"
      ]
     },
     "execution_count": 34,
     "metadata": {},
     "output_type": "execute_result"
    }
   ],
   "source": [
    "nodes[0].Index()"
   ]
  },
  {
   "cell_type": "code",
   "execution_count": 32,
   "id": "2ca38a5c",
   "metadata": {},
   "outputs": [
    {
     "name": "stdout",
     "output_type": "stream",
     "text": [
      "[0, 16]\n",
      "[1, 8]\n",
      "[1, 2]\n",
      "[1, 6]\n",
      "[1, 7]\n",
      "[5, 11]\n",
      "[5, 6]\n",
      "[6, 18]\n",
      "[7, 4]\n",
      "[9, 12]\n",
      "[10, 13]\n",
      "[13, 4]\n",
      "[13, 15]\n",
      "[14, 3]\n",
      "[16, 19]\n",
      "[16, 2]\n",
      "[16, 3]\n",
      "[17, 2, 11]\n",
      "[17, 3]\n",
      "[17, 4]\n",
      "[17, 15]\n"
     ]
    }
   ],
   "source": [
    "for i in nx.find_cliques(color_network):\n",
    "    print(i)"
   ]
  },
  {
   "cell_type": "code",
   "execution_count": 29,
   "id": "70431fc1",
   "metadata": {},
   "outputs": [
    {
     "ename": "AttributeError",
     "evalue": "'Graph' object has no attribute 'clique'",
     "output_type": "error",
     "traceback": [
      "\u001b[0;31m---------------------------------------------------------------------------\u001b[0m",
      "\u001b[0;31mAttributeError\u001b[0m                            Traceback (most recent call last)",
      "Input \u001b[0;32mIn [29]\u001b[0m, in \u001b[0;36m<cell line: 1>\u001b[0;34m()\u001b[0m\n\u001b[0;32m----> 1\u001b[0m \u001b[43mcolor_network\u001b[49m\u001b[38;5;241;43m.\u001b[39;49m\u001b[43mclique\u001b[49m\n",
      "\u001b[0;31mAttributeError\u001b[0m: 'Graph' object has no attribute 'clique'"
     ]
    }
   ],
   "source": [
    "color_network.clique"
   ]
  },
  {
   "cell_type": "markdown",
   "id": "873ee9cf",
   "metadata": {},
   "source": [
    "# Add Symmetry breaking and Global constraints"
   ]
  },
  {
   "cell_type": "code",
   "execution_count": 115,
   "id": "13dac749",
   "metadata": {},
   "outputs": [],
   "source": [
    "model = cp_model.CpModel()"
   ]
  },
  {
   "cell_type": "code",
   "execution_count": 116,
   "id": "abdd2545",
   "metadata": {},
   "outputs": [
    {
     "data": {
      "text/plain": [
       "<ortools.sat.python.cp_model.Constraint at 0x11f038dc0>"
      ]
     },
     "execution_count": 116,
     "metadata": {},
     "output_type": "execute_result"
    }
   ],
   "source": [
    "# Create variables\n",
    "## Nodes Breaking Symmetry (Node 0 -> 1 color, Node 2 -> 2 colors, Node 3 -> 3 colors...)\n",
    "nodes = [\n",
    "    model.NewIntVar(0, i, f\"Edge {i}\") for i in range(node_count)\n",
    "]\n",
    "## Variable of the of the objective function\n",
    "## Objetive function is the max number of the nodes\n",
    "obj_func = model.NewIntVar(0, node_count-1, \"Max color\")\n",
    "model.AddMaxEquality(target=obj_func, exprs=nodes)"
   ]
  },
  {
   "cell_type": "code",
   "execution_count": 117,
   "id": "46675f2c",
   "metadata": {},
   "outputs": [],
   "source": [
    "# Add constraints\n",
    "## Adjacente nodes must be different one by one\n",
    "for i,j in edges:\n",
    "    model.Add(nodes[i] != nodes[j])"
   ]
  },
  {
   "cell_type": "code",
   "execution_count": 100,
   "id": "dd3e0f80",
   "metadata": {},
   "outputs": [],
   "source": [
    "node_cardinality = list()\n",
    "for node in range(node_count):\n",
    "    set_adj_nodes = set([i for edge in edges for i in edge if node in edge])\n",
    "    cardinality = len(set_adj_nodes) - 1\n",
    "    node_cardinality.append((node, cardinality))"
   ]
  },
  {
   "cell_type": "code",
   "execution_count": 101,
   "id": "7705c336",
   "metadata": {},
   "outputs": [],
   "source": [
    "node_cardinality = sorted(node_cardinality, key=lambda x: x[1], reverse=True)"
   ]
  },
  {
   "cell_type": "code",
   "execution_count": 118,
   "id": "7a8be6a5",
   "metadata": {},
   "outputs": [],
   "source": [
    "model.AddDecisionStrategy(nodes, cp_model.CHOOSE_FIRST, cp_model.SELECT_MIN_VALUE)"
   ]
  },
  {
   "cell_type": "code",
   "execution_count": 119,
   "id": "f4a43b0d",
   "metadata": {},
   "outputs": [],
   "source": [
    "## Global constraints - Adjacent nodes must be all-different\n",
    "for node in range(node_count):\n",
    "    set_adj_nodes = set([i for edge in edges for i in edge if node in edge])\n",
    "    _nodes = list(filter(lambda x: x.Index() in set_adj_nodes, nodes))\n",
    "    model.AddAllDifferent(_nodes)"
   ]
  },
  {
   "cell_type": "code",
   "execution_count": 120,
   "id": "f0e1d560",
   "metadata": {},
   "outputs": [
    {
     "data": {
      "text/plain": [
       "{16, 19}"
      ]
     },
     "execution_count": 120,
     "metadata": {},
     "output_type": "execute_result"
    }
   ],
   "source": [
    "set_adj_nodes"
   ]
  },
  {
   "cell_type": "code",
   "execution_count": 121,
   "id": "d0393dfe",
   "metadata": {},
   "outputs": [
    {
     "data": {
      "text/plain": [
       "19"
      ]
     },
     "execution_count": 121,
     "metadata": {},
     "output_type": "execute_result"
    }
   ],
   "source": [
    "node"
   ]
  },
  {
   "cell_type": "code",
   "execution_count": 122,
   "id": "5dab8e5a",
   "metadata": {},
   "outputs": [
    {
     "data": {
      "text/plain": [
       "[Edge 16(0..16), Edge 19(0..19)]"
      ]
     },
     "execution_count": 122,
     "metadata": {},
     "output_type": "execute_result"
    }
   ],
   "source": [
    "_nodes"
   ]
  },
  {
   "cell_type": "code",
   "execution_count": 123,
   "id": "64a190fa",
   "metadata": {},
   "outputs": [],
   "source": [
    "model.Minimize(obj_func)"
   ]
  },
  {
   "cell_type": "code",
   "execution_count": 124,
   "id": "aeaf2ec4",
   "metadata": {},
   "outputs": [
    {
     "data": {
      "text/plain": [
       "4"
      ]
     },
     "execution_count": 124,
     "metadata": {},
     "output_type": "execute_result"
    }
   ],
   "source": [
    "# Solve\n",
    "solver = cp_model.CpSolver()\n",
    "solver.parameters.num_search_workers = 10\n",
    "solver.Solve(model)"
   ]
  },
  {
   "cell_type": "code",
   "execution_count": 125,
   "id": "a3be6a03",
   "metadata": {},
   "outputs": [
    {
     "data": {
      "text/plain": [
       "5.0"
      ]
     },
     "execution_count": 125,
     "metadata": {},
     "output_type": "execute_result"
    }
   ],
   "source": [
    "solver.BestObjectiveBound()"
   ]
  },
  {
   "cell_type": "code",
   "execution_count": 126,
   "id": "5b3a04db",
   "metadata": {},
   "outputs": [],
   "source": [
    "colors = [solver.Value(node) for node in nodes]"
   ]
  },
  {
   "cell_type": "code",
   "execution_count": 127,
   "id": "cdcba002",
   "metadata": {},
   "outputs": [
    {
     "data": {
      "text/plain": [
       "[0, 0, 2, 3, 4, 3, 4, 3, 1, 1, 1, 5, 0, 2, 0, 0, 4, 1, 1, 1]"
      ]
     },
     "execution_count": 127,
     "metadata": {},
     "output_type": "execute_result"
    }
   ],
   "source": [
    "colors"
   ]
  },
  {
   "cell_type": "code",
   "execution_count": 128,
   "id": "9b20df83",
   "metadata": {},
   "outputs": [],
   "source": [
    "color_network = to_network(edges, node_count, colors)"
   ]
  },
  {
   "cell_type": "code",
   "execution_count": 129,
   "id": "03e39817",
   "metadata": {},
   "outputs": [
    {
     "name": "stdout",
     "output_type": "stream",
     "text": [
      "ColorNetwork.html\n"
     ]
    },
    {
     "data": {
      "text/html": [
       "\n",
       "        <iframe\n",
       "            width=\"100%\"\n",
       "            height=\"600px\"\n",
       "            src=\"ColorNetwork.html\"\n",
       "            frameborder=\"0\"\n",
       "            allowfullscreen\n",
       "            \n",
       "        ></iframe>\n",
       "        "
      ],
      "text/plain": [
       "<IPython.lib.display.IFrame at 0x11f042190>"
      ]
     },
     "execution_count": 129,
     "metadata": {},
     "output_type": "execute_result"
    }
   ],
   "source": [
    "color_network.show(\"ColorNetwork.html\")"
   ]
  },
  {
   "cell_type": "code",
   "execution_count": null,
   "id": "241c4a9a",
   "metadata": {},
   "outputs": [],
   "source": []
  }
 ],
 "metadata": {
  "kernelspec": {
   "display_name": "opt-course",
   "language": "python",
   "name": "opt-course"
  },
  "language_info": {
   "codemirror_mode": {
    "name": "ipython",
    "version": 3
   },
   "file_extension": ".py",
   "mimetype": "text/x-python",
   "name": "python",
   "nbconvert_exporter": "python",
   "pygments_lexer": "ipython3",
   "version": "3.9.16"
  }
 },
 "nbformat": 4,
 "nbformat_minor": 5
}
